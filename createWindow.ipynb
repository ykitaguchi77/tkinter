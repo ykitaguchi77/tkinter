{
  "cells": [
    {
      "cell_type": "markdown",
      "metadata": {
        "colab_type": "text",
        "id": "view-in-github"
      },
      "source": [
        "<a href=\"https://colab.research.google.com/github/ykitaguchi77/tkinter/blob/main/createWindow.ipynb\" target=\"_parent\"><img src=\"https://colab.research.google.com/assets/colab-badge.svg\" alt=\"Open In Colab\"/></a>"
      ]
    },
    {
      "cell_type": "markdown",
      "metadata": {},
      "source": [
        "#**tkinterの使い方**\n",
        "##ウィンドウの表示\n",
        "###基本型"
      ]
    },
    {
      "cell_type": "code",
      "execution_count": 1,
      "metadata": {
        "id": "lprPHLSWa7bx"
      },
      "outputs": [],
      "source": [
        "#!/usr/bin/env python\n",
        "# -*- coding: utf8 -*-\n",
        "import sys\n",
        "import tkinter\n",
        "\n",
        "# 画面作成\n",
        "window = tkinter.Tk()\n",
        "\n",
        "window.title(\"画面だけ表示\")\n",
        "window.geometry(\"400x300\") #(\"横の大きさx縦の大きさ\")\n",
        "\n",
        "window.mainloop()"
      ]
    },
    {
      "cell_type": "markdown",
      "metadata": {},
      "source": [
        "###geometryにプラスをつけることにより、左側、上側の余白を指定できる"
      ]
    },
    {
      "cell_type": "code",
      "execution_count": 5,
      "metadata": {},
      "outputs": [],
      "source": [
        "window = tkinter.Tk()\n",
        "\n",
        "window.title(\"画面だけ表示\")\n",
        "window.geometry(\"400x300+200+100\") #+(左の空白)+(上の空白）)\n",
        "\n",
        "window.mainloop()"
      ]
    },
    {
      "cell_type": "markdown",
      "metadata": {},
      "source": [
        "###マイナスにすることにより、右側、下側の余白を指定することもできる"
      ]
    },
    {
      "cell_type": "code",
      "execution_count": 8,
      "metadata": {},
      "outputs": [],
      "source": [
        "window = tkinter.Tk()\n",
        "\n",
        "window.title(\"画面だけ表示\")\n",
        "window.geometry(\"400x300-200-100\")  # -(右の空白)-(下の空白）)\n",
        "\n",
        "window.mainloop()\n"
      ]
    },
    {
      "cell_type": "markdown",
      "metadata": {},
      "source": [
        "###Windowsの最大/最小サイズを指定"
      ]
    },
    {
      "cell_type": "code",
      "execution_count": 9,
      "metadata": {},
      "outputs": [],
      "source": [
        "window = tkinter.Tk()\n",
        "\n",
        "window.title(\"画面だけ表示\")\n",
        "window.geometry(\"400x300+200+100\")  # +(左の空白)+(上の空白）)\n",
        "window.maxsize(800, 600) #最大サイズ指定\n",
        "window.minsize(400, 300) #最小サイズ指定\n",
        "\n",
        "window.mainloop()"
      ]
    },
    {
      "cell_type": "markdown",
      "metadata": {},
      "source": [
        "###ウィンドウのサイズを固定"
      ]
    },
    {
      "cell_type": "code",
      "execution_count": 10,
      "metadata": {},
      "outputs": [],
      "source": [
        "window = tkinter.Tk()\n",
        "\n",
        "window.title(\"画面だけ表示\")\n",
        "window.geometry(\"400x300+200+100\")  # +(左の空白)+(上の空白）)\n",
        "window.resizable(False, False) #windowのサイズを固定\n",
        "\n",
        "window.mainloop()\n"
      ]
    },
    {
      "cell_type": "markdown",
      "metadata": {},
      "source": [
        "###ウィンドウを透明にする  \n",
        "（うまく動かない？？）"
      ]
    },
    {
      "cell_type": "code",
      "execution_count": 14,
      "metadata": {},
      "outputs": [],
      "source": [
        "window = tkinter.Tk()\n",
        "\n",
        "window.title(\"画面だけ表示\")\n",
        "window.geometry(\"400x300+200+100\")  # +(左の空白)+(上の空白）)\n",
        "window.attributes('-alpha', 0.1) # windowの透明度を指定\n",
        "\n",
        "window.mainloop()"
      ]
    },
    {
      "cell_type": "markdown",
      "metadata": {},
      "source": [
        "###フルスクリーン表示 \n",
        "\n",
        "```\n",
        "attributes('-fullscreen', True)\n",
        "```\n",
        "\n",
        "（これもうまく動かず）"
      ]
    },
    {
      "cell_type": "code",
      "execution_count": null,
      "metadata": {},
      "outputs": [],
      "source": [
        "window = tkinter.Tk()\n",
        "\n",
        "window.title(\"画面だけ表示\")\n",
        "window.geometry(\"400x300+200+100\")  # +(左の空白)+(上の空白）)\n",
        "window.attributes('-fullscreen', True)  # windowの透明度を指定\n",
        "\n",
        "window.mainloop()"
      ]
    },
    {
      "cell_type": "markdown",
      "metadata": {},
      "source": [
        "##テキストボックスの作成\n",
        "\n",
        "```\n",
        "Tkinter.Entry\n",
        "```"
      ]
    }
  ],
  "metadata": {
    "colab": {
      "authorship_tag": "ABX9TyPMli877nn3GGiNRyvJnWqQ",
      "include_colab_link": true,
      "name": "Untitled114.ipynb",
      "provenance": []
    },
    "kernelspec": {
      "display_name": "Python 3",
      "name": "python3"
    },
    "language_info": {
      "codemirror_mode": {
        "name": "ipython",
        "version": 3
      },
      "file_extension": ".py",
      "mimetype": "text/x-python",
      "name": "python",
      "nbconvert_exporter": "python",
      "pygments_lexer": "ipython3",
      "version": "3.9.11"
    }
  },
  "nbformat": 4,
  "nbformat_minor": 0
}
