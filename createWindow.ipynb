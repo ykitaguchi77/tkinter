{
  "cells": [
    {
      "cell_type": "markdown",
      "metadata": {
        "colab_type": "text",
        "id": "view-in-github"
      },
      "source": [
        "<a href=\"https://colab.research.google.com/github/ykitaguchi77/tkinter/blob/main/createWindow.ipynb\" target=\"_parent\"><img src=\"https://colab.research.google.com/assets/colab-badge.svg\" alt=\"Open In Colab\"/></a>"
      ]
    },
    {
      "cell_type": "markdown",
      "metadata": {},
      "source": [
        "#**tkinterの使い方**\n",
        "\n",
        "あああ"
      ]
    },
    {
      "cell_type": "code",
      "execution_count": 3,
      "metadata": {
        "id": "lprPHLSWa7bx"
      },
      "outputs": [],
      "source": [
        "#!/usr/bin/env python\n",
        "# -*- coding: utf8 -*-\n",
        "import sys\n",
        "import tkinter\n",
        "\n",
        "# 画面作成\n",
        "window = tkinter.Tk()\n",
        "window.title(\"画面だけ表示\")\n",
        "window.geometry(\"400x300\")\n",
        "\n",
        "\n",
        "window.mainloop()"
      ]
    },
    {
      "cell_type": "code",
      "execution_count": 4,
      "metadata": {},
      "outputs": [],
      "source": [
        "#!/usr/bin/env python\n",
        "# -*- coding: utf8 -*-\n",
        "import sys\n",
        "import tkinter\n",
        "\n",
        "# 画面作成\n",
        "window = tkinter.Tk()\n",
        "window.title(\"画面だけ表示\")\n",
        "window.geometry(\"400x300\")\n",
        "\n",
        "\n",
        "window.mainloop()\n"
      ]
    }
  ],
  "metadata": {
    "colab": {
      "authorship_tag": "ABX9TyPMli877nn3GGiNRyvJnWqQ",
      "include_colab_link": true,
      "name": "Untitled114.ipynb",
      "provenance": []
    },
    "kernelspec": {
      "display_name": "Python 3",
      "name": "python3"
    },
    "language_info": {
      "codemirror_mode": {
        "name": "ipython",
        "version": 3
      },
      "file_extension": ".py",
      "mimetype": "text/x-python",
      "name": "python",
      "nbconvert_exporter": "python",
      "pygments_lexer": "ipython3",
      "version": "3.9.11"
    }
  },
  "nbformat": 4,
  "nbformat_minor": 0
}
