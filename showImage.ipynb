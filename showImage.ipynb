{
 "cells": [
  {
   "cell_type": "markdown",
   "metadata": {},
   "source": [
    "#**tkinterで画像を表示させる**  "
   ]
  },
  {
   "cell_type": "code",
   "execution_count": 25,
   "metadata": {},
   "outputs": [],
   "source": [
    "import tkinter\n",
    "\n",
    "# 画面作成\n",
    "version = tkinter.Tcl().eval('info patchlevel')\n",
    "window = tkinter.Tk()\n",
    "window.geometry(\"400x400\")\n",
    "window.title(\"画像表示：\" + version)\n",
    "\n",
    "# キャンバス作成\n",
    "canvas = tkinter.Canvas(window, bg=\"#deb887\", height=200, width=200)\n",
    "# キャンバス表示(x, yで座標を指定)\n",
    "canvas.place(x=100, y=100)\n",
    "\n",
    "# イメージ作成\n",
    "img = tkinter.PhotoImage(file=\"inu.png\", width=200, height=200, master=canvas) \n",
    "# キャンバスにイメージを表示\n",
    "canvas.create_image(0, 0, image=img, anchor=tkinter.NW)\n",
    "\n",
    "window.mainloop()\n"
   ]
  },
  {
   "cell_type": "markdown",
   "metadata": {},
   "source": [
    "#**Canvasでお絵描きする**"
   ]
  },
  {
   "cell_type": "code",
   "execution_count": 26,
   "metadata": {},
   "outputs": [
    {
     "ename": "ModuleNotFoundError",
     "evalue": "No module named 'Tkinter'",
     "output_type": "error",
     "traceback": [
      "\u001b[0;31m---------------------------------------------------------------------------\u001b[0m",
      "\u001b[0;31mModuleNotFoundError\u001b[0m                       Traceback (most recent call last)",
      "\u001b[1;32m/Users/kitaguchi/VScode/tkinter/showImage.ipynb Cell 4'\u001b[0m in \u001b[0;36m<cell line: 4>\u001b[0;34m()\u001b[0m\n\u001b[1;32m      <a href='vscode-notebook-cell:/Users/kitaguchi/VScode/tkinter/showImage.ipynb#ch0000006?line=0'>1</a>\u001b[0m \u001b[39m#!/usr/bin/env python\u001b[39;00m\n\u001b[1;32m      <a href='vscode-notebook-cell:/Users/kitaguchi/VScode/tkinter/showImage.ipynb#ch0000006?line=1'>2</a>\u001b[0m \u001b[39m# -*- coding: utf8 -*-\u001b[39;00m\n\u001b[1;32m      <a href='vscode-notebook-cell:/Users/kitaguchi/VScode/tkinter/showImage.ipynb#ch0000006?line=2'>3</a>\u001b[0m \u001b[39mimport\u001b[39;00m \u001b[39msys\u001b[39;00m\n\u001b[0;32m----> <a href='vscode-notebook-cell:/Users/kitaguchi/VScode/tkinter/showImage.ipynb#ch0000006?line=3'>4</a>\u001b[0m \u001b[39mimport\u001b[39;00m \u001b[39mTkinter\u001b[39;00m\n\u001b[1;32m      <a href='vscode-notebook-cell:/Users/kitaguchi/VScode/tkinter/showImage.ipynb#ch0000006?line=5'>6</a>\u001b[0m \u001b[39m#\u001b[39;00m\n\u001b[1;32m      <a href='vscode-notebook-cell:/Users/kitaguchi/VScode/tkinter/showImage.ipynb#ch0000006?line=6'>7</a>\u001b[0m \u001b[39m# GUI設定\u001b[39;00m\n\u001b[1;32m      <a href='vscode-notebook-cell:/Users/kitaguchi/VScode/tkinter/showImage.ipynb#ch0000006?line=7'>8</a>\u001b[0m \u001b[39m#\u001b[39;00m\n\u001b[1;32m      <a href='vscode-notebook-cell:/Users/kitaguchi/VScode/tkinter/showImage.ipynb#ch0000006?line=8'>9</a>\u001b[0m root \u001b[39m=\u001b[39m Tkinter\u001b[39m.\u001b[39mTk()\n",
      "\u001b[0;31mModuleNotFoundError\u001b[0m: No module named 'Tkinter'"
     ]
    }
   ],
   "source": [
    "#!/usr/bin/env python\n",
    "# -*- coding: utf8 -*-\n",
    "import sys\n",
    "import Tkinter\n",
    "\n",
    "#\n",
    "# GUI設定\n",
    "#\n",
    "root = Tkinter.Tk()\n",
    "root.title(u\"TkinterのCanvasを使ってみる\")\n",
    "root.geometry(\"800x450\")\n",
    "\n",
    "\n",
    "#「描く」ボタンが押されたら\n",
    "def draw(event):\n",
    "    canvas.create_oval(10, 10, 140, 140, tag=\"oval\")\n",
    "\n",
    "\n",
    "\n",
    "#「消す」ボタンが押されたら\n",
    "def erase(event):\n",
    "    canvas.delete(\"oval\")\n",
    "\n",
    "\n",
    "\n",
    "#キャンバスエリア\n",
    "canvas = Tkinter.Canvas(root, width = 800, height = 300)\n",
    "\n",
    "#円を描く\n",
    "canvas.create_oval(10, 10, 140, 140, tag=\"oval\")\n",
    "\n",
    "#キャンバスバインド\n",
    "canvas.place(x=0, y=0)\n",
    "\n",
    "\n",
    "\n",
    "# 「描く」ボタン\n",
    "button_draw = Tkinter.Button(root, text=u'描く',width=15)\n",
    "button_draw.bind(\"<Button-1>\",draw)\n",
    "button_draw.place(x=100,y=350)\n",
    "\n",
    "\n",
    "# 「消す」ボタン\n",
    "button_draw = Tkinter.Button(root, text=u'消す',width=15)\n",
    "button_draw.bind(\"<Button-1>\",erase)\n",
    "button_draw.place(x=350,y=350)\n",
    "\n",
    "\n",
    "#\n",
    "# GUIの末端\n",
    "#\n",
    "root.mainloop()"
   ]
  }
 ],
 "metadata": {
  "interpreter": {
   "hash": "f96628ad6d4d02863c6d6d620a49eed9291de4ced64a58af0ec724ef6a43bbcb"
  },
  "kernelspec": {
   "display_name": "Python 3.7.5 64-bit ('shims')",
   "language": "python",
   "name": "python3"
  },
  "language_info": {
   "codemirror_mode": {
    "name": "ipython",
    "version": 3
   },
   "file_extension": ".py",
   "mimetype": "text/x-python",
   "name": "python",
   "nbconvert_exporter": "python",
   "pygments_lexer": "ipython3",
   "version": "3.9.11"
  },
  "orig_nbformat": 4
 },
 "nbformat": 4,
 "nbformat_minor": 2
}
