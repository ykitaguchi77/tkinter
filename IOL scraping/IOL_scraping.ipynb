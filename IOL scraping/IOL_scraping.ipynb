{
 "cells": [
  {
   "cell_type": "markdown",
   "metadata": {},
   "source": [
    "# Webに情報を入力してIOL度数の出力を拾ってくる\n",
    "\n",
    "## 参考Website\n",
    "https://yuki.world/python-selenium-chromedriver-auto-update/\n",
    "\n"
   ]
  },
  {
   "cell_type": "code",
   "execution_count": null,
   "metadata": {},
   "outputs": [],
   "source": [
    "import tkinter.ttk as ttk\n",
    "import tkinterdnd2 as tkdnd\n",
    "from selenium import webdriver\n",
    "from webdriver_manager.chrome import ChromeDriverManager\n",
    "from tkinter import messagebox\n",
    "import tkinter as tk\n",
    "import tkinter.filedialog as fl\n",
    "import tkinter.messagebox as mb\n",
    "import numpy as np\n",
    "\n",
    "\n",
    "\n",
    "#Chromedriverを自動的にダウンロードする\n",
    "driver = webdriver.Chrome(ChromeDriverManager().install())\n",
    "\n",
    "#Websiteを開く\n",
    "driver.get('https://www.iolformula.com/')\n",
    "\n",
    "#CSVを読み込むモジュール\n",
    "def get_csv():\n",
    "    filetype = [(\"all file\", \"*\")]\n",
    "    idir = 'C:\\\\python_test'\n",
    "    file_path = tk.filedialog.askopenfilename(initialdir=idir)\n",
    "\n",
    "    \"\"\"\n",
    "    #以下は前回と同じ、CSVファイルのデータを読み込み表示させる\n",
    "    data_1, data_2, data_3 = np.loadtxt(fname=path, skiprows=2, unpack=True)\n",
    "    print(data_1)\n",
    "    print(data_2)\n",
    "    print(data_3)\n",
    "    \"\"\"\n",
    "    return file_path\n",
    "\n",
    "\n",
    "# rootメインウィンドウの設定\n",
    "root = tk.Tk()\n",
    "root.title(\"tkinter application\")\n",
    "root.geometry(\"400x100\")\n",
    "\n",
    "# メインフレームの作成と設置\n",
    "frame = ttk.Frame(root)\n",
    "frame.pack(fill=tk.BOTH, padx=20, pady=10)\n",
    "\n",
    "\n",
    "# 各種ウィジェットの作成\n",
    "label = tk.Label(frame, text = '\"I agree\"を押してメイン画面に進んでください\"')\n",
    "button = tk.Button(frame, text=\"Upload CSV\", command=get_csv, font=(\"MSゴシック\", \"20\", \"bold\"))\n",
    "\n",
    "# 各種ウィジェットの設置\n",
    "label.pack()\n",
    "button.pack()\n",
    "\n",
    "root.mainloop()\n"
   ]
  },
  {
   "cell_type": "code",
   "execution_count": null,
   "metadata": {},
   "outputs": [],
   "source": [
    "#ボタンを押すとスクリプトを実行するプログラム\n",
    "import tkinter.ttk as ttk\n",
    "import tkinterdnd2 as tkdnd\n",
    "from selenium import webdriver\n",
    "from webdriver_manager.chrome import ChromeDriverManager\n",
    "from tkinter import messagebox\n",
    "import tkinter as tk\n",
    "import tkinter.filedialog as fl\n",
    "import tkinter.messagebox as mb\n",
    "import numpy as np\n",
    "\n",
    "def fnc_do_1(event):\n",
    "    print(1)\n",
    "\n",
    "\n",
    "# 画面作成\n",
    "window = tk.Tk()\n",
    "window.geometry(\"400x300\")\n",
    "window.title(\"ボタンを表示する\")\n",
    "\n",
    "# ボタン作成\n",
    "btn = tk.Button(window, text=\"ボタン\")\n",
    "\n",
    "# ボタン表示\n",
    "btn.place(x=125, y=230, width=150, height=40)\n",
    "\n",
    "# ボタンに関数をbind\n",
    "btn.bind(\"<Button-1>\", fnc_do_1)\n",
    "\n",
    "# 画面表示（常駐）\n",
    "window.mainloop()\n"
   ]
  },
  {
   "cell_type": "markdown",
   "metadata": {},
   "source": [
    "# Open CSV file"
   ]
  },
  {
   "cell_type": "code",
   "execution_count": 30,
   "metadata": {},
   "outputs": [
    {
     "data": {
      "text/html": [
       "<div>\n",
       "<style scoped>\n",
       "    .dataframe tbody tr th:only-of-type {\n",
       "        vertical-align: middle;\n",
       "    }\n",
       "\n",
       "    .dataframe tbody tr th {\n",
       "        vertical-align: top;\n",
       "    }\n",
       "\n",
       "    .dataframe thead th {\n",
       "        text-align: right;\n",
       "    }\n",
       "</style>\n",
       "<table border=\"1\" class=\"dataframe\">\n",
       "  <thead>\n",
       "    <tr style=\"text-align: right;\">\n",
       "      <th></th>\n",
       "      <th>ID</th>\n",
       "      <th>Sex:M=1, F=2</th>\n",
       "      <th>OD1/OS2</th>\n",
       "      <th>A constance</th>\n",
       "      <th>Toric:\\nAlcon SNDTx</th>\n",
       "      <th>AL</th>\n",
       "      <th>K1</th>\n",
       "      <th>K2</th>\n",
       "      <th>ACD</th>\n",
       "      <th>LT</th>\n",
       "      <th>CCT</th>\n",
       "      <th>Implanted\\nIOL power</th>\n",
       "      <th>Kane狙い:\\n119.28</th>\n",
       "      <th>術後自覚\\n等価球面</th>\n",
       "      <th>算術平均屈折誤差[NーM]</th>\n",
       "      <th>target</th>\n",
       "    </tr>\n",
       "  </thead>\n",
       "  <tbody>\n",
       "    <tr>\n",
       "      <th>0</th>\n",
       "      <td>1</td>\n",
       "      <td>2</td>\n",
       "      <td>1</td>\n",
       "      <td>119.28</td>\n",
       "      <td>4</td>\n",
       "      <td>22.52</td>\n",
       "      <td>41.62</td>\n",
       "      <td>43.55</td>\n",
       "      <td>2.21</td>\n",
       "      <td>4.79</td>\n",
       "      <td>533</td>\n",
       "      <td>27.5</td>\n",
       "      <td>-1.29</td>\n",
       "      <td>-1.375</td>\n",
       "      <td>-0.085</td>\n",
       "      <td></td>\n",
       "    </tr>\n",
       "    <tr>\n",
       "      <th>1</th>\n",
       "      <td>2</td>\n",
       "      <td>1</td>\n",
       "      <td>1</td>\n",
       "      <td>119.28</td>\n",
       "      <td>5</td>\n",
       "      <td>23.49</td>\n",
       "      <td>42.88</td>\n",
       "      <td>44.64</td>\n",
       "      <td>2.98</td>\n",
       "      <td>5.39</td>\n",
       "      <td>520</td>\n",
       "      <td>22.0</td>\n",
       "      <td>-0.09</td>\n",
       "      <td>0.250</td>\n",
       "      <td>0.340</td>\n",
       "      <td></td>\n",
       "    </tr>\n",
       "  </tbody>\n",
       "</table>\n",
       "</div>"
      ],
      "text/plain": [
       "   ID  Sex:M=1, F=2  OD1/OS2  A constance  Toric:\\nAlcon SNDTx     AL     K1  \\\n",
       "0   1             2        1       119.28                    4  22.52  41.62   \n",
       "1   2             1        1       119.28                    5  23.49  42.88   \n",
       "\n",
       "      K2   ACD    LT  CCT  Implanted\\nIOL power  Kane狙い:\\n119.28  術後自覚\\n等価球面  \\\n",
       "0  43.55  2.21  4.79  533                  27.5            -1.29      -1.375   \n",
       "1  44.64  2.98  5.39  520                  22.0            -0.09       0.250   \n",
       "\n",
       "   算術平均屈折誤差[NーM] target  \n",
       "0         -0.085         \n",
       "1          0.340         "
      ]
     },
     "execution_count": 30,
     "metadata": {},
     "output_type": "execute_result"
    }
   ],
   "source": [
    "import pandas as pd\n",
    "import codecs\n",
    "\n",
    "csv_path = \"/Users/kitaguchi/VScode/tkinter/IOL scraping/北口先生サンプルmini.csv\"\n",
    "\n",
    "#Open CSV\n",
    "with codecs.open(csv_path, \"r\", \"Shift-JIS\", \"ignore\") as file:\n",
    "    df = pd.read_csv(file, index_col=None, header=0)\n",
    "df['target'] = '' #行を追加する\n",
    "df\n"
   ]
  },
  {
   "cell_type": "code",
   "execution_count": 31,
   "metadata": {},
   "outputs": [
    {
     "name": "stdout",
     "output_type": "stream",
     "text": [
      "\n"
     ]
    },
    {
     "name": "stderr",
     "output_type": "stream",
     "text": [
      "[WDM] - ====== WebDriver manager ======\n",
      "[WDM] - Current google-chrome version is 102.0.5005\n",
      "[WDM] - Get LATEST chromedriver version for 102.0.5005 google-chrome\n",
      "[WDM] - Driver [/Users/kitaguchi/.wdm/drivers/chromedriver/mac64/102.0.5005.61/chromedriver] found in cache\n",
      "/var/folders/nm/mxcds0_n0n98lk28yt7l_ny00000gn/T/ipykernel_70946/2701130012.py:19: DeprecationWarning: executable_path has been deprecated, please pass in a Service object\n",
      "  driver = webdriver.Chrome(ChromeDriverManager().install())\n"
     ]
    }
   ],
   "source": [
    "#Open website\n",
    "import tkinter.ttk as ttk\n",
    "import tkinterdnd2 as tkdnd\n",
    "from selenium import webdriver\n",
    "from selenium.webdriver.common.by import By\n",
    "from webdriver_manager.chrome import ChromeDriverManager\n",
    "from tkinter import messagebox\n",
    "import tkinter as tk\n",
    "import tkinter.filedialog as fl\n",
    "import tkinter.messagebox as mb\n",
    "import numpy as np\n",
    "import time\n",
    "import pyautogui\n",
    "import sys\n",
    "import pandas as pd\n",
    "from sklearn.metrics import mean_absolute_error\n",
    "from sklearn.metrics import mean_squared_error\n",
    "#Chromedriverを自動的にダウンロードする\n",
    "driver = webdriver.Chrome(ChromeDriverManager().install())\n",
    "\n",
    "#Websiteを開く\n",
    "URL = 'https://www.iolformula.com/'\n",
    "driver.get(URL)\n",
    "#time.sleep(5)\n",
    "#print(\"sleep finished\")\n",
    "\n",
    "\n",
    "#Pyautoguiを用いてI agreeをクリック\n",
    "try:\n",
    "    x, y = pyautogui.locateCenterOnScreen(\n",
    "        \"./IAgree.png\", grayscale=True, confidence=0.8)\n",
    "    pyautogui.doubleClick(x/2, y/2) #macの場合は座標が1/2になる\n",
    "except Exception as ex:\n",
    "    print(\"対象が見つかりませんでした。\")\n",
    "    sys.exit()\n",
    "\n"
   ]
  },
  {
   "cell_type": "code",
   "execution_count": 32,
   "metadata": {},
   "outputs": [],
   "source": [
    "#ウェブにcsvの情報を入力する\n",
    "def input_columns(name, content):\n",
    "    element = driver.find_element_by_name(name)\n",
    "    element.clear()\n",
    "    element.send_keys(float(content))\n",
    "\n",
    "#CSVの情報を展開\n",
    "def input_website(df, row, Aconst):\n",
    "    id, sex, side, _, _, AL, K1, K2, ACD, LT, CCT, IOLpw, target= df.iloc[row, 0:13]\n",
    "\n",
    "    input_columns(\"id\", id)\n",
    "    input_columns('aconstant_1', Aconst)\n",
    "    input_columns('target_ref_1', target)\n",
    "    input_columns('al_right', AL)\n",
    "    input_columns('k1_right', K1)\n",
    "    input_columns('k2_right', K2)\n",
    "    input_columns('acd_right', ACD)\n",
    "    input_columns('lt_right', LT)\n",
    "    input_columns('cct_right', CCT)\n",
    "    \n",
    "    #Pyautoguiを用いてMaleをクリック\n",
    "    try:\n",
    "        x, y = pyautogui.locateCenterOnScreen(\n",
    "            \"./sex.png\", grayscale=True, confidence=0.9)\n",
    "        pyautogui.click(x/2+90, y/2-50)  # macの場合は座標が1/2になる\n",
    "        pyautogui.click(x/2+90, y/2-5)  # macの場合は座標が1/2になる\n",
    "    except Exception as ex:\n",
    "        print(\"対象が見つかりませんでした。\")\n",
    "        print(ex)\n",
    "\n",
    "    #Pyautoguiを用いてMaleをクリック\n",
    "    try:\n",
    "        x, y = pyautogui.locateCenterOnScreen(\n",
    "            \"./calculate.png\", grayscale=True, confidence=0.8)\n",
    "        pyautogui.doubleClick(x/2, y/2)  # macの場合は座標が1/2になる\n",
    "    except Exception as ex:\n",
    "        print(\"対象が見つかりませんでした。\")\n",
    "        print(ex)\n",
    "\n",
    "    #出力されたTableをpyautoguiでクリップボードにコピー\n",
    "    start = time.time()\n",
    "    while True:\n",
    "        try:\n",
    "            x, y = pyautogui.locateCenterOnScreen(\n",
    "                \"./IOLpw.png\", grayscale=True, confidence=0.8)\n",
    "            pyautogui.doubleClick(x/2-100, y/2-10)  # macの場合は座標が1/2になる\n",
    "            break\n",
    "        except Exception as ex:\n",
    "            if time.time() - start > 15:\n",
    "                print(\"対象が見つかりませんでした。\")\n",
    "                sys.exit()\n",
    "            else:\n",
    "                pass\n",
    "    pyautogui.dragRel(394, 300, button='left')\n",
    "    #time.sleep(0.2)\n",
    "    pyautogui.hotkey('command', 'c')  # windowではctrl\n",
    "\n",
    "    time.sleep(0.1)\n",
    "    \n",
    "    #クリップボードからdataframeへ\n",
    "    df_IOL = pd.read_clipboard()\n",
    "    print(df_IOL)\n",
    "    #Kane狙い\n",
    "    target2 = df_IOL[df_IOL.iloc[0:,0]== IOLpw].iloc[0,1]\n",
    "    print(\"target2: {}\".format(target2))\n",
    "\n",
    "    #Pyautoguiを用いてNEW PATIENTをクリック\n",
    "    try:\n",
    "        x, y = pyautogui.locateCenterOnScreen(\n",
    "            \"./newpatient.png\", grayscale=True, confidence=0.7)\n",
    "        pyautogui.doubleClick(x/2, y/2)  # macの場合は座標が1/2になる\n",
    "    except Exception as ex:\n",
    "        print(\"対象が見つかりませんでした。\")\n",
    "        sys.exit()\n",
    "\n",
    "    return target2\n",
    "\n",
    "\n",
    "def calc_error(df):\n",
    "    MeanError = (df.iloc[:, 13].sum() - df.iloc[:, 15].sum())/len(df)\n",
    "    MAE = mean_absolute_error(df.iloc[:, 15], df.iloc[:, 13])\n",
    "    MSE = mean_squared_error(df.iloc[:, 15], df.iloc[:, 13])\n",
    "    return MeanError, MAE, MSE\n",
    "\n",
    "\n"
   ]
  },
  {
   "cell_type": "markdown",
   "metadata": {},
   "source": [
    "#適正なA定数の探索\n",
    "\n",
    "MeanErrorがプラス --> A定数を減らす"
   ]
  },
  {
   "cell_type": "code",
   "execution_count": 33,
   "metadata": {},
   "outputs": [
    {
     "name": "stderr",
     "output_type": "stream",
     "text": [
      "/var/folders/nm/mxcds0_n0n98lk28yt7l_ny00000gn/T/ipykernel_70946/3141095207.py:3: DeprecationWarning: find_element_by_name is deprecated. Please use find_element(by=By.NAME, value=name) instead\n",
      "  element = driver.find_element_by_name(name)\n"
     ]
    },
    {
     "name": "stdout",
     "output_type": "stream",
     "text": [
      "   IOL Power (D)  Refraction (D)\n",
      "0           30.0           -2.92\n",
      "1           29.5           -2.55\n",
      "2           29.0           -2.18\n",
      "3           28.5           -1.82\n",
      "4           28.0           -1.46\n",
      "5           27.5           -1.10\n",
      "6           27.0           -0.75\n",
      "target2: -1.1\n"
     ]
    },
    {
     "name": "stderr",
     "output_type": "stream",
     "text": [
      "/var/folders/nm/mxcds0_n0n98lk28yt7l_ny00000gn/T/ipykernel_70946/3141095207.py:3: DeprecationWarning: find_element_by_name is deprecated. Please use find_element(by=By.NAME, value=name) instead\n",
      "  element = driver.find_element_by_name(name)\n"
     ]
    },
    {
     "name": "stdout",
     "output_type": "stream",
     "text": [
      "   IOL Power (D)  Refraction (D)\n",
      "0           24.0           -1.46\n",
      "1           23.5           -1.11\n",
      "2           23.0           -0.77\n",
      "3           22.5           -0.43\n",
      "4           22.0           -0.09\n",
      "5           21.5            0.24\n",
      "6           21.0            0.57\n",
      "target2: -0.09\n",
      "Aconst: 119.28\n",
      "MeanError: 0.032500000000000084\n",
      "MAE: 0.30749999999999994\n",
      "MSE: 0.09561249999999996\n",
      "New Aconst: 118.88\n"
     ]
    },
    {
     "name": "stderr",
     "output_type": "stream",
     "text": [
      "/var/folders/nm/mxcds0_n0n98lk28yt7l_ny00000gn/T/ipykernel_70946/3141095207.py:3: DeprecationWarning: find_element_by_name is deprecated. Please use find_element(by=By.NAME, value=name) instead\n",
      "  element = driver.find_element_by_name(name)\n"
     ]
    },
    {
     "name": "stdout",
     "output_type": "stream",
     "text": [
      "   IOL Power (D)  Refraction (D)\n",
      "0           29.5           -3.06\n",
      "1           29.0           -2.68\n",
      "2           28.5           -2.30\n",
      "3           28.0           -1.93\n",
      "4           27.5           -1.56\n",
      "5           27.0           -1.20\n",
      "6           26.5           -0.84\n",
      "target2: -1.56\n"
     ]
    },
    {
     "name": "stderr",
     "output_type": "stream",
     "text": [
      "/var/folders/nm/mxcds0_n0n98lk28yt7l_ny00000gn/T/ipykernel_70946/3141095207.py:3: DeprecationWarning: find_element_by_name is deprecated. Please use find_element(by=By.NAME, value=name) instead\n",
      "  element = driver.find_element_by_name(name)\n"
     ]
    },
    {
     "name": "stdout",
     "output_type": "stream",
     "text": [
      "   IOL Power (D)  Refraction (D)\n",
      "0           23.5           -1.50\n",
      "1           23.0           -1.14\n",
      "2           22.5           -0.79\n",
      "3           22.0           -0.45\n",
      "4           21.5           -0.10\n",
      "5           21.0            0.23\n",
      "6           20.5            0.57\n",
      "target2: -0.45\n",
      "Aconst: 118.88\n",
      "MeanError: 0.4425000000000001\n",
      "MAE: 0.4425\n",
      "MSE: 0.26211249999999997\n",
      "New Aconst: 118.72\n"
     ]
    },
    {
     "name": "stderr",
     "output_type": "stream",
     "text": [
      "/var/folders/nm/mxcds0_n0n98lk28yt7l_ny00000gn/T/ipykernel_70946/3141095207.py:3: DeprecationWarning: find_element_by_name is deprecated. Please use find_element(by=By.NAME, value=name) instead\n",
      "  element = driver.find_element_by_name(name)\n"
     ]
    },
    {
     "name": "stdout",
     "output_type": "stream",
     "text": [
      "   IOL Power (D)  Refraction (D)\n",
      "0           29.0           -2.88\n",
      "1           28.5           -2.50\n",
      "2           28.0           -2.12\n",
      "3           27.5           -1.75\n",
      "4           27.0           -1.38\n",
      "5           26.5           -1.02\n",
      "6           26.0           -0.66\n",
      "target2: -1.75\n"
     ]
    },
    {
     "name": "stderr",
     "output_type": "stream",
     "text": [
      "/var/folders/nm/mxcds0_n0n98lk28yt7l_ny00000gn/T/ipykernel_70946/3141095207.py:3: DeprecationWarning: find_element_by_name is deprecated. Please use find_element(by=By.NAME, value=name) instead\n",
      "  element = driver.find_element_by_name(name)\n"
     ]
    },
    {
     "name": "stdout",
     "output_type": "stream",
     "text": [
      "   IOL Power (D)  Refraction (D)\n",
      "0           23.5           -1.65\n",
      "1           23.0           -1.30\n",
      "2           22.5           -0.94\n",
      "3           22.0           -0.59\n",
      "4           21.5           -0.24\n",
      "5           21.0            0.10\n",
      "6           20.5            0.44\n",
      "target2: -0.59\n",
      "Aconst: 118.72\n",
      "MeanError: 0.6074999999999999\n",
      "MAE: 0.6074999999999999\n",
      "MSE: 0.42311249999999995\n",
      "New Aconst: 118.66\n"
     ]
    },
    {
     "name": "stderr",
     "output_type": "stream",
     "text": [
      "/var/folders/nm/mxcds0_n0n98lk28yt7l_ny00000gn/T/ipykernel_70946/3141095207.py:3: DeprecationWarning: find_element_by_name is deprecated. Please use find_element(by=By.NAME, value=name) instead\n",
      "  element = driver.find_element_by_name(name)\n"
     ]
    },
    {
     "name": "stdout",
     "output_type": "stream",
     "text": [
      "   IOL Power (D)  Refraction (D)\n",
      "0           29.0           -2.96\n",
      "1           28.5           -2.58\n",
      "2           28.0           -2.20\n",
      "3           27.5           -1.82\n",
      "4           27.0           -1.45\n",
      "5           26.5           -1.09\n",
      "6           26.0           -0.72\n",
      "target2: -1.82\n"
     ]
    },
    {
     "name": "stderr",
     "output_type": "stream",
     "text": [
      "/var/folders/nm/mxcds0_n0n98lk28yt7l_ny00000gn/T/ipykernel_70946/3141095207.py:3: DeprecationWarning: find_element_by_name is deprecated. Please use find_element(by=By.NAME, value=name) instead\n",
      "  element = driver.find_element_by_name(name)\n"
     ]
    },
    {
     "name": "stdout",
     "output_type": "stream",
     "text": [
      "   IOL Power (D)  Refraction (D)\n",
      "0           23.5           -1.71\n",
      "1           23.0           -1.35\n",
      "2           22.5           -1.00\n",
      "3           22.0           -0.64\n",
      "4           21.5           -0.29\n",
      "5           21.0            0.05\n",
      "6           20.5            0.39\n",
      "target2: -0.64\n",
      "Aconst: 118.66\n",
      "MeanError: 0.6675\n",
      "MAE: 0.6675\n",
      "MSE: 0.49506250000000007\n",
      "New Aconst: 118.64\n"
     ]
    },
    {
     "name": "stderr",
     "output_type": "stream",
     "text": [
      "/var/folders/nm/mxcds0_n0n98lk28yt7l_ny00000gn/T/ipykernel_70946/3141095207.py:3: DeprecationWarning: find_element_by_name is deprecated. Please use find_element(by=By.NAME, value=name) instead\n",
      "  element = driver.find_element_by_name(name)\n"
     ]
    },
    {
     "name": "stdout",
     "output_type": "stream",
     "text": [
      "   IOL Power (D)  Refraction (D)\n",
      "0           29.0           -2.99\n",
      "1           28.5           -2.60\n",
      "2           28.0           -2.22\n",
      "3           27.5           -1.85\n",
      "4           27.0           -1.47\n",
      "5           26.5           -1.11\n",
      "6           26.0           -0.75\n",
      "target2: -1.85\n"
     ]
    },
    {
     "name": "stderr",
     "output_type": "stream",
     "text": [
      "/var/folders/nm/mxcds0_n0n98lk28yt7l_ny00000gn/T/ipykernel_70946/3141095207.py:3: DeprecationWarning: find_element_by_name is deprecated. Please use find_element(by=By.NAME, value=name) instead\n",
      "  element = driver.find_element_by_name(name)\n"
     ]
    },
    {
     "name": "stdout",
     "output_type": "stream",
     "text": [
      "   IOL Power (D)  Refraction (D)\n",
      "0           23.5           -1.73\n",
      "1           23.0           -1.37\n",
      "2           22.5           -1.01\n",
      "3           22.0           -0.66\n",
      "4           21.5           -0.31\n",
      "5           21.0            0.03\n",
      "6           20.5            0.37\n",
      "target2: -0.66\n",
      "Aconst: 118.64\n",
      "MeanError: 0.6925000000000001\n",
      "MAE: 0.6925000000000001\n",
      "MSE: 0.5268625\n",
      "New Aconst: 118.63\n"
     ]
    },
    {
     "name": "stderr",
     "output_type": "stream",
     "text": [
      "/var/folders/nm/mxcds0_n0n98lk28yt7l_ny00000gn/T/ipykernel_70946/3141095207.py:3: DeprecationWarning: find_element_by_name is deprecated. Please use find_element(by=By.NAME, value=name) instead\n",
      "  element = driver.find_element_by_name(name)\n"
     ]
    },
    {
     "name": "stdout",
     "output_type": "stream",
     "text": [
      "   IOL Power (D)  Refraction (D)\n",
      "0           29.0           -3.00\n",
      "1           28.5           -2.61\n",
      "2           28.0           -2.23\n",
      "3           27.5           -1.86\n",
      "4           27.0           -1.49\n",
      "5           26.5           -1.12\n",
      "6           26.0           -0.76\n",
      "target2: -1.86\n"
     ]
    },
    {
     "name": "stderr",
     "output_type": "stream",
     "text": [
      "/var/folders/nm/mxcds0_n0n98lk28yt7l_ny00000gn/T/ipykernel_70946/3141095207.py:3: DeprecationWarning: find_element_by_name is deprecated. Please use find_element(by=By.NAME, value=name) instead\n",
      "  element = driver.find_element_by_name(name)\n"
     ]
    },
    {
     "name": "stdout",
     "output_type": "stream",
     "text": [
      "   IOL Power (D)  Refraction (D)\n",
      "0           23.5           -1.74\n",
      "1           23.0           -1.38\n",
      "2           22.5           -1.02\n",
      "3           22.0           -0.67\n",
      "4           21.5           -0.32\n",
      "5           21.0            0.02\n",
      "6           20.5            0.37\n",
      "target2: -0.67\n",
      "Aconst: 118.63\n",
      "MeanError: 0.7025000000000001\n",
      "MAE: 0.7025000000000001\n",
      "MSE: 0.5408125\n",
      "New Aconst: 118.61999999999999\n"
     ]
    },
    {
     "name": "stderr",
     "output_type": "stream",
     "text": [
      "/var/folders/nm/mxcds0_n0n98lk28yt7l_ny00000gn/T/ipykernel_70946/3141095207.py:3: DeprecationWarning: find_element_by_name is deprecated. Please use find_element(by=By.NAME, value=name) instead\n",
      "  element = driver.find_element_by_name(name)\n"
     ]
    },
    {
     "name": "stdout",
     "output_type": "stream",
     "text": [
      "   IOL Power (D)  Refraction (D)\n",
      "0           29.0           -3.01\n",
      "1           28.5           -2.63\n",
      "2           28.0           -2.24\n",
      "3           27.5           -1.87\n",
      "4           27.0           -1.50\n",
      "5           26.5           -1.13\n",
      "6           26.0           -0.77\n",
      "target2: -1.87\n"
     ]
    },
    {
     "name": "stderr",
     "output_type": "stream",
     "text": [
      "/var/folders/nm/mxcds0_n0n98lk28yt7l_ny00000gn/T/ipykernel_70946/3141095207.py:3: DeprecationWarning: find_element_by_name is deprecated. Please use find_element(by=By.NAME, value=name) instead\n",
      "  element = driver.find_element_by_name(name)\n"
     ]
    },
    {
     "name": "stdout",
     "output_type": "stream",
     "text": [
      "   IOL Power (D)  Refraction (D)\n",
      "0           23.5           -1.75\n",
      "1           23.0           -1.39\n",
      "2           22.5           -1.03\n",
      "3           22.0           -0.68\n",
      "4           21.5           -0.33\n",
      "5           21.0            0.02\n",
      "6           20.5            0.36\n",
      "target2: -0.68\n",
      "Aconst: 118.61999999999999\n",
      "MeanError: 0.7125000000000001\n",
      "MAE: 0.7125000000000001\n",
      "MSE: 0.5549625000000001\n",
      "New Aconst: 118.60999999999999\n"
     ]
    },
    {
     "name": "stderr",
     "output_type": "stream",
     "text": [
      "/var/folders/nm/mxcds0_n0n98lk28yt7l_ny00000gn/T/ipykernel_70946/3141095207.py:3: DeprecationWarning: find_element_by_name is deprecated. Please use find_element(by=By.NAME, value=name) instead\n",
      "  element = driver.find_element_by_name(name)\n"
     ]
    },
    {
     "name": "stdout",
     "output_type": "stream",
     "text": [
      "   IOL Power (D)  Refraction (D)\n",
      "0           29.0           -3.02\n",
      "1           28.5           -2.64\n",
      "2           28.0           -2.26\n",
      "3           27.5           -1.88\n",
      "4           27.0           -1.51\n",
      "5           26.5           -1.14\n",
      "6           26.0           -0.78\n",
      "target2: -1.88\n"
     ]
    },
    {
     "name": "stderr",
     "output_type": "stream",
     "text": [
      "/var/folders/nm/mxcds0_n0n98lk28yt7l_ny00000gn/T/ipykernel_70946/3141095207.py:3: DeprecationWarning: find_element_by_name is deprecated. Please use find_element(by=By.NAME, value=name) instead\n",
      "  element = driver.find_element_by_name(name)\n"
     ]
    },
    {
     "name": "stdout",
     "output_type": "stream",
     "text": [
      "   IOL Power (D)  Refraction (D)\n",
      "0           23.5           -1.76\n",
      "1           23.0           -1.40\n",
      "2           22.5           -1.04\n",
      "3           22.0           -0.69\n",
      "4           21.5           -0.34\n",
      "5           21.0            0.01\n",
      "6           20.5            0.35\n",
      "target2: -0.69\n",
      "Aconst: 118.60999999999999\n",
      "MeanError: 0.7224999999999999\n",
      "MAE: 0.7224999999999999\n",
      "MSE: 0.5693124999999999\n",
      "New Aconst: 118.59999999999998\n"
     ]
    },
    {
     "name": "stderr",
     "output_type": "stream",
     "text": [
      "/var/folders/nm/mxcds0_n0n98lk28yt7l_ny00000gn/T/ipykernel_70946/3141095207.py:3: DeprecationWarning: find_element_by_name is deprecated. Please use find_element(by=By.NAME, value=name) instead\n",
      "  element = driver.find_element_by_name(name)\n"
     ]
    },
    {
     "name": "stdout",
     "output_type": "stream",
     "text": [
      "   IOL Power (D)  Refraction (D)\n",
      "0           29.0           -3.04\n",
      "1           28.5           -2.65\n",
      "2           28.0           -2.27\n",
      "3           27.5           -1.89\n",
      "4           27.0           -1.52\n",
      "5           26.5           -1.15\n",
      "6           26.0           -0.79\n",
      "target2: -1.89\n"
     ]
    },
    {
     "name": "stderr",
     "output_type": "stream",
     "text": [
      "/var/folders/nm/mxcds0_n0n98lk28yt7l_ny00000gn/T/ipykernel_70946/3141095207.py:3: DeprecationWarning: find_element_by_name is deprecated. Please use find_element(by=By.NAME, value=name) instead\n",
      "  element = driver.find_element_by_name(name)\n"
     ]
    },
    {
     "name": "stdout",
     "output_type": "stream",
     "text": [
      "   IOL Power (D)  Refraction (D)\n",
      "0           23.5           -1.77\n",
      "1           23.0           -1.41\n",
      "2           22.5           -1.05\n",
      "3           22.0           -0.70\n",
      "4           21.5           -0.35\n",
      "5           21.0            0.00\n",
      "6           20.5            0.34\n",
      "target2: -0.7\n",
      "Aconst: 118.59999999999998\n",
      "MeanError: 0.7324999999999999\n",
      "MAE: 0.7324999999999999\n",
      "MSE: 0.5838625\n"
     ]
    },
    {
     "ename": "IndexError",
     "evalue": "list index out of range",
     "output_type": "error",
     "traceback": [
      "\u001b[0;31m---------------------------------------------------------------------------\u001b[0m",
      "\u001b[0;31mIndexError\u001b[0m                                Traceback (most recent call last)",
      "\u001b[1;32m/Users/kitaguchi/VScode/tkinter/IOL scraping/IOL_scraping.ipynb Cell 9'\u001b[0m in \u001b[0;36m<cell line: 13>\u001b[0;34m()\u001b[0m\n\u001b[1;32m     <a href='vscode-notebook-cell:/Users/kitaguchi/VScode/tkinter/IOL%20scraping/IOL_scraping.ipynb#ch0000013?line=32'>33</a>\u001b[0m     \u001b[39melse\u001b[39;00m:\n\u001b[1;32m     <a href='vscode-notebook-cell:/Users/kitaguchi/VScode/tkinter/IOL%20scraping/IOL_scraping.ipynb#ch0000013?line=33'>34</a>\u001b[0m         k \u001b[39m+\u001b[39m\u001b[39m=\u001b[39m \u001b[39m1\u001b[39m\n\u001b[0;32m---> <a href='vscode-notebook-cell:/Users/kitaguchi/VScode/tkinter/IOL%20scraping/IOL_scraping.ipynb#ch0000013?line=34'>35</a>\u001b[0m     Aconst \u001b[39m=\u001b[39m Aconst \u001b[39m-\u001b[39m step[k]\n\u001b[1;32m     <a href='vscode-notebook-cell:/Users/kitaguchi/VScode/tkinter/IOL%20scraping/IOL_scraping.ipynb#ch0000013?line=35'>36</a>\u001b[0m \u001b[39melif\u001b[39;00m MeanError \u001b[39m<\u001b[39m \u001b[39m0\u001b[39m:\n\u001b[1;32m     <a href='vscode-notebook-cell:/Users/kitaguchi/VScode/tkinter/IOL%20scraping/IOL_scraping.ipynb#ch0000013?line=36'>37</a>\u001b[0m     \u001b[39mif\u001b[39;00m Residual_error_positive \u001b[39m==\u001b[39m \u001b[39mFalse\u001b[39;00m:\n",
      "\u001b[0;31mIndexError\u001b[0m: list index out of range"
     ]
    }
   ],
   "source": [
    "#空のdataframe(df_error)を作成\n",
    "cols = ['Aconst', 'MeanError', 'MAE', 'MSE']\n",
    "df_error = pd.DataFrame(index=[], columns=cols)\n",
    "df_error\n",
    "\n",
    "Aconst = 119.28\n",
    "step = [1, 0.4, 0.16, 0.06, 0.02, 0.01, 0.01, 0.01, 0.01]\n",
    "Residual_error_positive = \"\"\n",
    "\n",
    "k=0\n",
    "while True:\n",
    "    #dfを更新\n",
    "    with codecs.open(csv_path, \"r\", \"Shift-JIS\", \"ignore\") as file:\n",
    "        df = pd.read_csv(file, index_col=None, header=0)\n",
    "    df['target'] = ''  # 行を追加する\n",
    "\n",
    "    #Aconstの探索\n",
    "    for i in range(len(df)):\n",
    "        df.loc[i, \"target\"] = input_website(df, i, Aconst) #df, row, Aconst\n",
    "    MeanError, MAE, MSE = calc_error(df)\n",
    "    df_error.loc[len(df_error)+1] = [Aconst, MeanError, MAE, MSE]  # df_errorに数字を追加\n",
    "\n",
    "    print(\"Aconst: {}\".format(Aconst))\n",
    "    print(\"MeanError: {}\".format(MeanError))\n",
    "    print(\"MAE: {}\".format(MAE))\n",
    "    print(\"MSE: {}\".format(MSE))\n",
    "    \n",
    "    if abs(MeanError) < 0.001 or k==len(step):\n",
    "        break\n",
    "    elif MeanError > 0:\n",
    "        if Residual_error_positive == True: \n",
    "            pass\n",
    "        else:\n",
    "            k += 1\n",
    "        Aconst = Aconst - step[k]\n",
    "    elif MeanError < 0:\n",
    "        if Residual_error_positive == False:\n",
    "            pass\n",
    "        else:\n",
    "            k += 1\n",
    "        Aconst = Aconst + step[k]\n",
    "    print(\"New Aconst: {}\".format(Aconst))\n",
    "\n",
    "df_error\n",
    "\n"
   ]
  },
  {
   "cell_type": "code",
   "execution_count": null,
   "metadata": {},
   "outputs": [],
   "source": [
    "print(len())"
   ]
  },
  {
   "cell_type": "code",
   "execution_count": null,
   "metadata": {},
   "outputs": [],
   "source": [
    "# #出力されたTableをpyautoguiでクリップボードにコピー\n",
    "# start = time.time()\n",
    "# while True:\n",
    "#     try:\n",
    "#         x, y = pyautogui.locateCenterOnScreen(\n",
    "#             \"./IOLpw.png\", grayscale=True, confidence=0.8)\n",
    "#         pyautogui.doubleClick(x/2-100, y/2-10)  # macの場合は座標が1/2になる\n",
    "#         break\n",
    "#     except Exception as ex:\n",
    "#         if time.time() - start > 15:\n",
    "#             print(\"対象が見つかりませんでした。\")\n",
    "#             sys.exit()\n",
    "#         else:\n",
    "#             pass\n",
    "# pyautogui.dragRel(394, 300, button='left')\n",
    "# pyautogui.hotkey('command', 'c')  # windowではctrl\n",
    "\n",
    "# #クリップボードからdataframeへ\n",
    "# df_IOL = pd.read_clipboard()\n",
    "\n",
    "\n",
    "# #Kane狙い\n",
    "# target2 = df_IOL[df_IOL.iloc[0:, 0] == 22.5].iloc[0,1]\n",
    "\n",
    "# #Pyautoguiを用いてNEW PATIENTをクリック\n",
    "# try:\n",
    "#     x, y = pyautogui.locateCenterOnScreen(\n",
    "#         \"./newpatient.png\", grayscale=True, confidence=0.8)\n",
    "#     pyautogui.doubleClick(x/2, y/2)  # macの場合は座標が1/2になる\n",
    "# except Exception as ex:\n",
    "#     print(\"対象が見つかりませんでした。\")\n",
    "#     sys.exit()\n"
   ]
  },
  {
   "cell_type": "code",
   "execution_count": null,
   "metadata": {},
   "outputs": [
    {
     "data": {
      "text/plain": [
       "-1.1"
      ]
     },
     "execution_count": 34,
     "metadata": {},
     "output_type": "execute_result"
    }
   ],
   "source": [
    "df_IOL\n",
    "target2 = df_IOL[df_IOL.iloc[0:, 0] == IOLpw].iloc[0, 1]\n",
    "target2\n"
   ]
  }
 ],
 "metadata": {
  "interpreter": {
   "hash": "f96628ad6d4d02863c6d6d620a49eed9291de4ced64a58af0ec724ef6a43bbcb"
  },
  "kernelspec": {
   "display_name": "Python 3.7.5 64-bit ('shims')",
   "language": "python",
   "name": "python3"
  },
  "language_info": {
   "codemirror_mode": {
    "name": "ipython",
    "version": 3
   },
   "file_extension": ".py",
   "mimetype": "text/x-python",
   "name": "python",
   "nbconvert_exporter": "python",
   "pygments_lexer": "ipython3",
   "version": "3.9.11"
  },
  "orig_nbformat": 4
 },
 "nbformat": 4,
 "nbformat_minor": 2
}
