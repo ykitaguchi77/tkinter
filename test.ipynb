{
  "nbformat": 4,
  "nbformat_minor": 0,
  "metadata": {
    "colab": {
      "name": "Untitled114.ipynb",
      "provenance": [],
      "authorship_tag": "ABX9TyN192IzD6oRAXAxPX7yWe9a",
      "include_colab_link": true
    },
    "kernelspec": {
      "name": "python3",
      "display_name": "Python 3"
    },
    "language_info": {
      "name": "python"
    }
  },
  "cells": [
    {
      "cell_type": "markdown",
      "metadata": {
        "id": "view-in-github",
        "colab_type": "text"
      },
      "source": [
        "<a href=\"https://colab.research.google.com/github/ykitaguchi77/tkinter/blob/main/test.ipynb\" target=\"_parent\"><img src=\"https://colab.research.google.com/assets/colab-badge.svg\" alt=\"Open In Colab\"/></a>"
      ]
    },
    {
      "cell_type": "code",
      "execution_count": 10,
      "metadata": {
        "id": "lprPHLSWa7bx"
      },
      "outputs": [],
      "source": [
        "#!/usr/bin/env python\n",
        "# -*- coding: utf8 -*-\n",
        "import sys\n",
        "import tkinter\n",
        "\n",
        "\n",
        "root = tkinter.Tk()\n",
        "root.title(u\"Software Title\")\n",
        "root.geometry(\"600x400\")\n",
        "\n",
        "#ラベル\n",
        "Static1 = tkinter.Label(text=u'test', foreground='#ff0000', background='#ffaacc')\n",
        "Static1.place(x=150, y=228)\n",
        "\n",
        "#エントリー\n",
        "EditBox = tkinter.Entry()\n",
        "EditBox.pack()\n",
        "\n",
        "root.mainloop()"
      ]
    }
  ]
}